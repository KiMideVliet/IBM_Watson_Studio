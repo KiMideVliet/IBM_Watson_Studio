{
    "cells": [
        {
            "cell_type": "markdown",
            "metadata": {
                "collapsed": true
            },
            "source": "# My Jupyter Notebook on IBM Watson Studio"
        },
        {
            "cell_type": "markdown",
            "metadata": {},
            "source": "**M Mari\u00ebn**  \nReliability Engineer  \n"
        },
        {
            "cell_type": "markdown",
            "metadata": {},
            "source": "*I am interested in data science because i believe in the power of Data in maintaining reliability production process*  \n*I believe the true voice of the process is hidden in machine data and therefore crucial for optimal reliability*"
        },
        {
            "cell_type": "markdown",
            "metadata": {},
            "source": "### The next cell adds 1 to every element of series of 5 numbers"
        },
        {
            "cell_type": "code",
            "execution_count": 10,
            "metadata": {},
            "outputs": [
                {
                    "data": {
                        "text/html": "<ol class=list-inline>\n\t<li>2</li>\n\t<li>3</li>\n\t<li>4</li>\n\t<li>5</li>\n\t<li>6</li>\n</ol>\n",
                        "text/latex": "\\begin{enumerate*}\n\\item 2\n\\item 3\n\\item 4\n\\item 5\n\\item 6\n\\end{enumerate*}\n",
                        "text/markdown": "1. 2\n2. 3\n3. 4\n4. 5\n5. 6\n\n\n",
                        "text/plain": "[1] 2 3 4 5 6"
                    },
                    "metadata": {},
                    "output_type": "display_data"
                }
            ],
            "source": "x<-c(1,2,3,4,5)\nx<-x+1\nx"
        },
        {
            "cell_type": "markdown",
            "metadata": {},
            "source": "URL link  \nURL to BBC world service [https://www.bbc.co.uk/sounds/play/live:bbc_world_service]  \n  \nBulleted/Unordered list  \n  * Bulleted\n  * Unordered\n  * List  \n  \nStrikethrough  \n~~Strikethrough~~  \n  \nNumbered list  \n  1 Number 1  \n  2 Number 2  \n  3 Number 3\n"
        }
    ],
    "metadata": {
        "kernelspec": {
            "display_name": "R 3.6",
            "language": "R",
            "name": "r-3.6"
        },
        "language_info": {
            "codemirror_mode": "r",
            "file_extension": ".r",
            "mimetype": "text/x-r-source",
            "name": "R",
            "pygments_lexer": "r",
            "version": "3.6.1"
        }
    },
    "nbformat": 4,
    "nbformat_minor": 1
}